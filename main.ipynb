{
 "cells": [
  {
   "cell_type": "markdown",
   "metadata": {},
   "source": [
    "_____\n",
    "***\n",
    "\n",
    "<img width='700' src=\"https://user-images.githubusercontent.com/8030363/108961534-b9a66980-7634-11eb-96e2-cc46589dcb8c.png\" style=\"vertical-align:middle\">\n",
    "\n",
    "***\n",
    "***\n",
    "\n",
    "**Author:** [TJCallahan](https://mail.google.com/mail/u/0/?view=cm&fs=1&tf=1&to=callahantiff@gmail.com)  \n",
    "**GitHub Repository:** [PheKnowLator](https://github.com/callahantiff/PheKnowLator/wiki)  \n",
    "**Current Release:** **[`v2.0.0`](https://github.com/callahantiff/PheKnowLator/wiki/v2.0.0)**\n",
    "\n",
    "<br>\n",
    "\n",
    "**Objective:** Knowledge graphs provide meaningful ways to integrate heterogeneous biological data and represent complex biological mechanisms. This work seeks to explore the utility of incorporating existing knowledge of molecular mechanism from ontologies, publicly available data, and the literature to construct a biomedical knowledge graph that models unbiased molecular mechanisms of human disease + RNA.\n",
    "\n",
    "SOSTITUIRE/AGGIUNGERE immagine sottostante CON integrazione RNA KG\n",
    "<a target=\"_blank\" href=\"https://user-images.githubusercontent.com/8030363/103158881-11813b00-4780-11eb-8b45-5063765e7645.png\"> <img src=\"https://user-images.githubusercontent.com/8030363/103158881-11813b00-4780-11eb-8b45-5063765e7645.png\"></a> \n",
    "\n",
    "(*Click Figure to Enlarge Image in Current Browser Tab*)\n",
    "\n",
    "<br>\n",
    "\n",
    "***\n",
    "***"
   ]
  },
  {
   "cell_type": "markdown",
   "metadata": {},
   "source": [
    "## Notebook Purpose\n",
    "**Wiki Page:** **[`Release v2.0.0`](https://github.com/callahantiff/PheKnowLator/wiki/v2.0.0)**\n",
    "\n",
    "<br>\n",
    "\n",
    "**Purpose:** This notebook serves as a `main` file for the RNA KG project based on PheKnowLator project. This scripts walks through this program step-by-step and generates the knowledge graph shown above. Please see the [README](https://github.com/callahantiff/PheKnowLator/blob/master/README.md) for more information.\n",
    "\n",
    "<br>\n",
    "\n",
    "**Assumptions:**\n",
    "1. Hyperlinks to all downloaded and generated data sources are provided through [this](https://console.cloud.google.com/storage/browser/pheknowlator/release_v2.0.0?project=pheknowlator) dedicated Google Cloud Storage Bucket. <u>This includes examples, from prior builds, of the required input documents mentioned below</u>.     \n",
    "2. Make sure that the following input documents have been constructed (see the [Dependencies Wiki](https://github.com/callahantiff/PheKnowLator/wiki/Dependencies) for more information):  \n",
    "  - [`resource_info.txt`](https://github.com/callahantiff/PheKnowLator/blob/master/resources/resource_info.txt)\n",
    "  - [`ontology_source_list.txt`](https://github.com/callahantiff/PheKnowLator/blob/master/resources/ontology_source_list.txt)\n",
    "  - [`edge_source_list.txt`](https://github.com/callahantiff/PheKnowLator/blob/master/resources/edge_source_list.txt)   \n",
    "\n",
    "3. Prepare [relations](https://github.com/callahantiff/PheKnowLator/wiki/Dependencies#relations-data) and [node metadata](https://github.com/callahantiff/PheKnowLator/wiki/Dependencies#node-metadata) files prior to running the scripts.  \n",
    "\n",
    "4. Select a knowledge graph build type (i.e. `full`, `partial`, or `post-closure`) and construction method (i.e. `instance-based` or `subclass-based`).  \n",
    "\n",
    "<br>\n",
    "\n",
    "***\n",
    "### Table of Contents\n",
    "***\n",
    "The three primary steps involved in building a knowledge graph are `Downloading Data Sources`, `Creating Edge Lists`, and `Building the knowledge graphs`.\n",
    "\n",
    "* [Data Sources](#data-source)  \n",
    "* [Create Edge Lists](#create-edges)  \n",
    "* [Build Knowledge Graph](#build-kg)  \n",
    "\n",
    "***\n",
    "\n",
    "***"
   ]
  },
  {
   "cell_type": "markdown",
   "metadata": {
    "collapsed": true,
    "pycharm": {
     "is_executing": false
    }
   },
   "source": [
    "_____\n",
    "### Set-Up Environment"
   ]
  },
  {
   "cell_type": "code",
   "execution_count": 5,
   "metadata": {},
   "outputs": [],
   "source": [
    "# import needed libraries\n",
    "import glob\n",
    "import json\n",
    "import pandas\n",
    "import ray\n",
    "import time\n",
    "\n",
    "# import module\n",
    "from pkt_kg.downloads import OntData, LinkedData\n",
    "from pkt_kg.edge_list import CreatesEdgeList\n",
    "from pkt_kg.knowledge_graph import FullBuild, PartialBuild, PostClosureBuild"
   ]
  },
  {
   "cell_type": "markdown",
   "metadata": {},
   "source": [
    "***\n",
    "## Download Data Sources <a class=\"anchor\" id=\"data-source\"></a>\n",
    "\n",
    "**Wiki Page:** **[`Dependencies`](https://github.com/callahantiff/PheKnowLator/wiki/Dependencies)**  \n",
    "\n",
    "**Purpose:**\n",
    "This portion of this portion of the algorithm is to download:\n",
    "1. [Download Ontology Data](#download-ontology-data)  \n",
    "2. [Download Edge Data](#download-edge-data)   \n",
    "\n",
    "<br>\n",
    "\n",
    "**Input Files:**\n",
    "  - [`resource_info.txt`](https://github.com/callahantiff/PheKnowLator/blob/master/resources/resource_info.txt)\n",
    "  - [`ontology_source_list.txt`](https://github.com/callahantiff/PheKnowLator/blob/master/resources/ontology_source_list.txt)\n",
    "  - [`edge_source_list.txt`](https://github.com/callahantiff/PheKnowLator/blob/master/resources/edge_source_list.txt)\n",
    "\n",
    "<br>\n",
    "\n",
    "**Assumptions:**  \n",
    "- All sources used to construct our knowledge graph need to be preprocessed and ready to download prior to running this code. All mapping, filtering, and label data have been generated prior to this step. For assistance with creating these datasets, see the [`Data_Preparation.ipynb`](https://github.com/callahantiff/PheKnowLator/blob/master/notebooks/Data_Preparation.ipynb) Jupyter Notebook.  \n",
    "- All downloaded and generated data sources for all PheKnowLator builds can be accessed through [this](https://console.cloud.google.com/storage/browser/pheknowlator/release_v2.0.0?project=pheknowlator) dedicated Google Cloud Storage Bucket.\n"
   ]
  },
  {
   "cell_type": "markdown",
   "metadata": {},
   "source": [
    "***\n",
    "***\n",
    "### Ontology Data  <a class=\"anchor\" id=\"download-ontology-data\"></a>\n",
    "Ontologies are the core data structure used when building PheKnowLator. In the figure above, ontology data are shown in yellow boxes."
   ]
  },
  {
   "cell_type": "code",
   "execution_count": 6,
   "metadata": {},
   "outputs": [],
   "source": [
    "ont = OntData('resources/ontology_source_list.txt', 'resources/resource_info.txt')\n",
    "\n",
    "ont.parses_resource_file()"
   ]
  },
  {
   "cell_type": "code",
   "execution_count": 9,
   "metadata": {},
   "outputs": [
    {
     "data": {
      "text/plain": [
       "'/Users/emanuelecavalleri/Desktop/Final dissertation/Thesis project/RNA-KG'"
      ]
     },
     "execution_count": 9,
     "metadata": {},
     "output_type": "execute_result"
    }
   ],
   "source": [
    "import os\n",
    "os.getcwd()"
   ]
  },
  {
   "cell_type": "code",
   "execution_count": 7,
   "metadata": {},
   "outputs": [
    {
     "name": "stderr",
     "output_type": "stream",
     "text": [
      "\r",
      "  0%|                                                     | 0/4 [00:00<?, ?it/s]"
     ]
    },
    {
     "name": "stdout",
     "output_type": "stream",
     "text": [
      "\n",
      "*** Generating Metadata ***\n",
      "\n"
     ]
    },
    {
     "name": "stderr",
     "output_type": "stream",
     "text": [
      "\n"
     ]
    },
    {
     "ename": "FileNotFoundError",
     "evalue": "[Errno 2] No such file or directory: 'resources/ontologies/pr_with_imports.owl'",
     "output_type": "error",
     "traceback": [
      "\u001b[0;31m---------------------------------------------------------------------------\u001b[0m",
      "\u001b[0;31mFileNotFoundError\u001b[0m                         Traceback (most recent call last)",
      "\u001b[0;32m/var/folders/4k/0lqzcm0545d30b5nyr_dptyh0000gn/T/ipykernel_9304/4197805433.py\u001b[0m in \u001b[0;36m<cell line: 2>\u001b[0;34m()\u001b[0m\n\u001b[1;32m      1\u001b[0m \u001b[0mont\u001b[0m\u001b[0;34m.\u001b[0m\u001b[0mdata_files\u001b[0m \u001b[0;34m=\u001b[0m \u001b[0mont\u001b[0m\u001b[0;34m.\u001b[0m\u001b[0msource_list\u001b[0m\u001b[0;34m\u001b[0m\u001b[0;34m\u001b[0m\u001b[0m\n\u001b[0;32m----> 2\u001b[0;31m \u001b[0mont\u001b[0m\u001b[0;34m.\u001b[0m\u001b[0mgenerates_source_metadata\u001b[0m\u001b[0;34m(\u001b[0m\u001b[0;34m)\u001b[0m\u001b[0;34m\u001b[0m\u001b[0;34m\u001b[0m\u001b[0m\n\u001b[0m",
      "\u001b[0;32m~/Desktop/Final dissertation/Thesis project/RNA-KG/pkt_kg/downloads.py\u001b[0m in \u001b[0;36mgenerates_source_metadata\u001b[0;34m(self)\u001b[0m\n\u001b[1;32m    212\u001b[0m                                \u001b[0;34m'DATA INFO\\n  - DOWNLOAD_URL = {}'\u001b[0m\u001b[0;34m.\u001b[0m\u001b[0mformat\u001b[0m\u001b[0;34m(\u001b[0m\u001b[0mstr\u001b[0m\u001b[0;34m(\u001b[0m\u001b[0mself\u001b[0m\u001b[0;34m.\u001b[0m\u001b[0msource_list\u001b[0m\u001b[0;34m[\u001b[0m\u001b[0mi\u001b[0m\u001b[0;34m]\u001b[0m\u001b[0;34m)\u001b[0m\u001b[0;34m)\u001b[0m\u001b[0;34m,\u001b[0m\u001b[0;34m\u001b[0m\u001b[0;34m\u001b[0m\u001b[0m\n\u001b[1;32m    213\u001b[0m                                \u001b[0;34m'  - DOWNLOAD_DATE = {}'\u001b[0m\u001b[0;34m.\u001b[0m\u001b[0mformat\u001b[0m\u001b[0;34m(\u001b[0m\u001b[0mstr\u001b[0m\u001b[0;34m(\u001b[0m\u001b[0mdatetime\u001b[0m\u001b[0;34m.\u001b[0m\u001b[0mdatetime\u001b[0m\u001b[0;34m.\u001b[0m\u001b[0mnow\u001b[0m\u001b[0;34m(\u001b[0m\u001b[0;34m)\u001b[0m\u001b[0;34m.\u001b[0m\u001b[0mstrftime\u001b[0m\u001b[0;34m(\u001b[0m\u001b[0;34m'%m/%d/%Y'\u001b[0m\u001b[0;34m)\u001b[0m\u001b[0;34m)\u001b[0m\u001b[0;34m)\u001b[0m\u001b[0;34m,\u001b[0m\u001b[0;34m\u001b[0m\u001b[0;34m\u001b[0m\u001b[0m\n\u001b[0;32m--> 214\u001b[0;31m                                \u001b[0;34m'  - FILE_SIZE_IN_BYTES = {}'\u001b[0m\u001b[0;34m.\u001b[0m\u001b[0mformat\u001b[0m\u001b[0;34m(\u001b[0m\u001b[0mstr\u001b[0m\u001b[0;34m(\u001b[0m\u001b[0mos\u001b[0m\u001b[0;34m.\u001b[0m\u001b[0mstat\u001b[0m\u001b[0;34m(\u001b[0m\u001b[0mself\u001b[0m\u001b[0;34m.\u001b[0m\u001b[0mdata_files\u001b[0m\u001b[0;34m[\u001b[0m\u001b[0mi\u001b[0m\u001b[0;34m]\u001b[0m\u001b[0;34m)\u001b[0m\u001b[0;34m.\u001b[0m\u001b[0mst_size\u001b[0m\u001b[0;34m)\u001b[0m\u001b[0;34m)\u001b[0m\u001b[0;34m,\u001b[0m\u001b[0;34m\u001b[0m\u001b[0;34m\u001b[0m\u001b[0m\n\u001b[0m\u001b[1;32m    215\u001b[0m                                '  - DOWNLOADED_FILE_LOCATION = {}'.format(str(source))]\n\u001b[1;32m    216\u001b[0m             \u001b[0mself\u001b[0m\u001b[0;34m.\u001b[0m\u001b[0mmetadata\u001b[0m\u001b[0;34m.\u001b[0m\u001b[0mappend\u001b[0m\u001b[0;34m(\u001b[0m\u001b[0msource_metadata\u001b[0m\u001b[0;34m)\u001b[0m\u001b[0;34m\u001b[0m\u001b[0;34m\u001b[0m\u001b[0m\n",
      "\u001b[0;31mFileNotFoundError\u001b[0m: [Errno 2] No such file or directory: 'resources/ontologies/pr_with_imports.owl'"
     ]
    }
   ],
   "source": [
    "ont.data_files = ont.source_list\n",
    "ont.generates_source_metadata()"
   ]
  },
  {
   "cell_type": "code",
   "execution_count": 4,
   "metadata": {},
   "outputs": [
    {
     "name": "stderr",
     "output_type": "stream",
     "text": [
      "  0%|                                                     | 0/4 [00:00<?, ?it/s]\n"
     ]
    },
    {
     "ename": "IndexError",
     "evalue": "list index out of range",
     "output_type": "error",
     "traceback": [
      "\u001b[0;31m---------------------------------------------------------------------------\u001b[0m",
      "\u001b[0;31mIndexError\u001b[0m                                Traceback (most recent call last)",
      "\u001b[0;32m/var/folders/4k/0lqzcm0545d30b5nyr_dptyh0000gn/T/ipykernel_9304/1217606459.py\u001b[0m in \u001b[0;36m<cell line: 1>\u001b[0;34m()\u001b[0m\n\u001b[0;32m----> 1\u001b[0;31m \u001b[0mont\u001b[0m\u001b[0;34m.\u001b[0m\u001b[0m_writes_source_metadata_locally\u001b[0m\u001b[0;34m(\u001b[0m\u001b[0;34m)\u001b[0m\u001b[0;34m\u001b[0m\u001b[0;34m\u001b[0m\u001b[0m\n\u001b[0m",
      "\u001b[0;32m~/Desktop/Final dissertation/Thesis project/RNA-KG/pkt_kg/downloads.py\u001b[0m in \u001b[0;36m_writes_source_metadata_locally\u001b[0;34m(self)\u001b[0m\n\u001b[1;32m    165\u001b[0m         \u001b[0;32mfor\u001b[0m \u001b[0mi\u001b[0m \u001b[0;32min\u001b[0m \u001b[0mtqdm\u001b[0m\u001b[0;34m(\u001b[0m\u001b[0mrange\u001b[0m\u001b[0;34m(\u001b[0m\u001b[0;36m1\u001b[0m\u001b[0;34m,\u001b[0m \u001b[0mlen\u001b[0m\u001b[0;34m(\u001b[0m\u001b[0mself\u001b[0m\u001b[0;34m.\u001b[0m\u001b[0mdata_files\u001b[0m\u001b[0;34m.\u001b[0m\u001b[0mkeys\u001b[0m\u001b[0;34m(\u001b[0m\u001b[0;34m)\u001b[0m\u001b[0;34m)\u001b[0m \u001b[0;34m+\u001b[0m \u001b[0;36m1\u001b[0m\u001b[0;34m)\u001b[0m\u001b[0;34m)\u001b[0m\u001b[0;34m:\u001b[0m\u001b[0;34m\u001b[0m\u001b[0;34m\u001b[0m\u001b[0m\n\u001b[1;32m    166\u001b[0m             \u001b[0;32mfor\u001b[0m \u001b[0mj\u001b[0m \u001b[0;32min\u001b[0m \u001b[0mrange\u001b[0m\u001b[0;34m(\u001b[0m\u001b[0;36m8\u001b[0m\u001b[0;34m)\u001b[0m\u001b[0;34m:\u001b[0m\u001b[0;34m\u001b[0m\u001b[0;34m\u001b[0m\u001b[0m\n\u001b[0;32m--> 167\u001b[0;31m                 \u001b[0moutfile\u001b[0m\u001b[0;34m.\u001b[0m\u001b[0mwrite\u001b[0m\u001b[0;34m(\u001b[0m\u001b[0mstr\u001b[0m\u001b[0;34m(\u001b[0m\u001b[0mself\u001b[0m\u001b[0;34m.\u001b[0m\u001b[0mmetadata\u001b[0m\u001b[0;34m[\u001b[0m\u001b[0mi\u001b[0m\u001b[0;34m]\u001b[0m\u001b[0;34m[\u001b[0m\u001b[0mj\u001b[0m\u001b[0;34m]\u001b[0m\u001b[0;34m)\u001b[0m \u001b[0;34m+\u001b[0m \u001b[0;34m'\\n'\u001b[0m\u001b[0;34m)\u001b[0m\u001b[0;34m\u001b[0m\u001b[0;34m\u001b[0m\u001b[0m\n\u001b[0m\u001b[1;32m    168\u001b[0m             \u001b[0moutfile\u001b[0m\u001b[0;34m.\u001b[0m\u001b[0mwrite\u001b[0m\u001b[0;34m(\u001b[0m\u001b[0;34m'\\n'\u001b[0m\u001b[0;34m)\u001b[0m\u001b[0;34m\u001b[0m\u001b[0;34m\u001b[0m\u001b[0m\n\u001b[1;32m    169\u001b[0m         \u001b[0moutfile\u001b[0m\u001b[0;34m.\u001b[0m\u001b[0mclose\u001b[0m\u001b[0;34m(\u001b[0m\u001b[0;34m)\u001b[0m\u001b[0;34m\u001b[0m\u001b[0;34m\u001b[0m\u001b[0m\n",
      "\u001b[0;31mIndexError\u001b[0m: list index out of range"
     ]
    }
   ],
   "source": [
    "ont._writes_source_metadata_locally()"
   ]
  },
  {
   "cell_type": "code",
   "execution_count": 257,
   "metadata": {},
   "outputs": [
    {
     "data": {
      "text/plain": [
       "['gene-miRNA|;;|entity-entity|RO_0002434|http://www.ncbi.nlm.nih.gov/gene/|https://www.mirbase.org/textsearch.shtml?q=|t|0;2|0:./resources/processed_data/ENSEMBL_GENE_ENTREZ_GENE_MAP.txt|None|None',\n",
       " 'miRNA-disease|;;|entity-class|RO_0003302|https://www.mirbase.org/textsearch.shtml?q=|http://purl.obolibrary.org/obo/|t|2;1|1:./resources/processed_data/DOID_MONDO_MAP.txt|None|None',\n",
       " 'gene-disease|;;|entity-class|RO_0003302|http://www.ncbi.nlm.nih.gov/gene/|http://purl.obolibrary.org/obo/|t|0;4|1:./resources/processed_data/DISEASE_MONDO_MAP.txt|10;>=;1.0|None',\n",
       " 'miRNA-tsRNA|;;|entity-entity|RO_0002434|https://www.mirbase.org/textsearch.shtml?q=|https://rna.sysu.edu.cn/tsRFun/searchDetail-tsRNA.php?tsRNAid=|t|0;1|1:./resources/processed_data/tRNA_tsRNA_MAP.txt|None|None',\n",
       " 'tsRNA-disease|;;|entity-class|RO_0003302|https://rna.sysu.edu.cn/tsRFun/searchDetail-tsRNA.php?tsRNAid=|http://purl.obolibrary.org/obo/|t|0;1|1:./resources/processed_data/TCGA_MONDO_MAP.txt|None|None',\n",
       " 'gene-snoRNA|;;|entity-entity|RO_0002434|http://www.ncbi.nlm.nih.gov/gene/|http://www.ncbi.nlm.nih.gov/gene/|t|5;4|0:./resources/processed_data/ENSEMBL_GENE_ENTREZ_GENE_MAP.txt|None|None',\n",
       " 'snoRNA-miRNA|;;|entity-entity|RO_0002434|http://www.ncbi.nlm.nih.gov/gene/|https://www.mirbase.org/textsearch.shtml?q=|t|4;8|None|None|None',\n",
       " 'snoRNA-snoRNA|;;|entity-entity|RO_0002434|http://www.ncbi.nlm.nih.gov/gene/|http://www.ncbi.nlm.nih.gov/gene/|t|4;7|1:./resources/processed_data/GENE_SYMBOL_ENTREZ_ID_MAP.txt|None|None',\n",
       " 'snoRNA-lncRNA|;;|entity-entity|RO_0002434|http://www.ncbi.nlm.nih.gov/gene/|http://www.ncbi.nlm.nih.gov/gene/|t|4;7|1:./resources/processed_data/GENE_SYMBOL_ENTREZ_ID_MAP.txt|None|None',\n",
       " 'snoRNA-snRNA|;;|entity-entity|RO_0002434|http://www.ncbi.nlm.nih.gov/gene/|http://www.ncbi.nlm.nih.gov/gene/|t|4;7|1:./resources/processed_data/GENE_SYMBOL_ENTREZ_ID_MAP.txt|None|None',\n",
       " 'lncRNA-disease|;;|entity-class|RO_0003302|http://www.ncbi.nlm.nih.gov/gene/|http://purl.obolibrary.org/obo/|t|2;1|0:./resources/processed_data/GENE_SYMBOL_ENTREZ_ID_MAP.txt|None|None',\n",
       " 'circRNA-disease|;;|entity-class|RO_0003302|http://www.ncbi.nlm.nih.gov/gene/|http://purl.obolibrary.org/obo/|t|2;1|0:./resources/processed_data/GENE_SYMBOL_ENTREZ_ID_MAP.txt|None|None',\n",
       " 'lncRNA-protein|;;|entity-class|RO_0003302|http://www.ncbi.nlm.nih.gov/gene/|http://purl.obolibrary.org/obo/|t|1;3|0:./resources/processed_data/GENE_SYMBOL_ENTREZ_ID_MAP.txt;1:./resources/processed_data/GENE_SYMBOL_PRO_ONTOLOGY_MAP.txt|None|None',\n",
       " 'miRNA-protein|;;|class-class|RO_0002434|https://www.mirbase.org/textsearch.shtml?q=|http://purl.obolibrary.org/obo/|t|2;3|1:./resources/processed_data/GENE_SYMBOL_PRO_ONTOLOGY_MAP.txt|None|None',\n",
       " 'chemical-miRNA|;;|class-class|RO_0002606|http://purl.obolibrary.org/obo/|https://www.mirbase.org/textsearch.shtml?q=|t|2;0|None|None|None',\n",
       " 'gRNA-gene|;;|entity-entity|RO_0003302|https://www.addgene.org/|http://www.ncbi.nlm.nih.gov/gene/|t|3;0|1:./resources/processed_data/GENE_SYMBOL_ENTREZ_ID_MAP.txt|None|None',\n",
       " \"chemical-disease|:;MESH_;|class-class|RO_0002606|http://purl.obolibrary.org/obo/|http://purl.obolibrary.org/obo/|t|1;4|0:./resources/processed_data/MESH_CHEBI_MAP.txt;1:./resources/processed_data/DISEASE_MONDO_MAP.txt|5;!=;''|None\",\n",
       " 'ASO-gene|;;|entity-entity|RO_0003302|https://go.drugbank.com/drugs/|http://www.ncbi.nlm.nih.gov/gene/|t|4;3|None|None|None',\n",
       " 'lncRNA-gene|;;|entity-class|RO_0003302|http://www.ncbi.nlm.nih.gov/gene/|http://www.ncbi.nlm.nih.gov/gene/|t|4;5|0:./resources/processed_data/GENE_SYMBOL_ENTREZ_ID_MAP.txt;1:./resources/processed_data/GENE_SYMBOL_ENTREZ_ID_MAP.txt|None|None',\n",
       " \"chemical-gene|;MESH_;|class-entity|RO_0002434|http://purl.obolibrary.org/obo/|http://www.ncbi.nlm.nih.gov/gene/|t|1;4|0:./resources/processed_data/MESH_CHEBI_MAP.txt|9;affects;not in x|6;==;Homo sapiens::5;.startswith('gene');\",\n",
       " 'gene-gene|;;|entity-entity|RO_0002435|http://www.ncbi.nlm.nih.gov/gene/|http://www.ncbi.nlm.nih.gov/gene/|t|0;1|0:./resources/processed_data/ENSEMBL_GENE_ENTREZ_GENE_MAP.txt;1:./resources/processed_data/ENSEMBL_GENE_ENTREZ_GENE_MAP.txt|None|None',\n",
       " \"protein-protein|9606.;;|class-class|RO_0002436|http://purl.obolibrary.org/obo/|http://purl.obolibrary.org/obo/|''|0;1|0:./resources/processed_data/STRING_PRO_ONTOLOGY_MAP.txt;1:./resources/processed_data/STRING_PRO_ONTOLOGY_MAP.txt|2;>=;700|None\"]"
      ]
     },
     "execution_count": 257,
     "metadata": {},
     "output_type": "execute_result"
    }
   ],
   "source": [
    "ont.resource_info"
   ]
  },
  {
   "cell_type": "markdown",
   "metadata": {},
   "source": [
    "<br>\n",
    "\n",
    "### Edge Data   <a class=\"anchor\" id=\"download-edge-data\"></a>\n",
    "In PheKnowLator, classes are nodes that originate from ontologies. Class data sources are Linked Data sources that are used to create edges in the knowledge graph and thus can connect to other class data sources. Sometimes we want to add data that is not already part of an ontology. In that case, data either be added as an `instance` of an existing ontology class or as its own `owl:class` by being added to the knowledge graph as a `subclass` of an existing `owl:class`."
   ]
  },
  {
   "cell_type": "code",
   "execution_count": 258,
   "metadata": {},
   "outputs": [],
   "source": [
    "edges = LinkedData('resources/edge_source_list.txt', 'resources/resource_info.txt')\n",
    "\n",
    "edges.parses_resource_file()"
   ]
  },
  {
   "cell_type": "code",
   "execution_count": 259,
   "metadata": {},
   "outputs": [
    {
     "name": "stderr",
     "output_type": "stream",
     "text": [
      "100%|██████████| 22/22 [00:00<00:00, 11701.08it/s]\n",
      "100%|██████████| 22/22 [00:00<00:00, 64168.77it/s]"
     ]
    },
    {
     "name": "stdout",
     "output_type": "stream",
     "text": [
      "\n",
      "*** Generating Metadata ***\n",
      "\n"
     ]
    },
    {
     "name": "stderr",
     "output_type": "stream",
     "text": [
      "\n"
     ]
    }
   ],
   "source": [
    "edges.data_files = edges.source_list\n",
    "edges.generates_source_metadata()"
   ]
  },
  {
   "cell_type": "code",
   "execution_count": 260,
   "metadata": {},
   "outputs": [
    {
     "name": "stderr",
     "output_type": "stream",
     "text": [
      "100%|██████████| 22/22 [00:00<00:00, 69852.15it/s]\n"
     ]
    }
   ],
   "source": [
    "edges._writes_source_metadata_locally()"
   ]
  },
  {
   "cell_type": "code",
   "execution_count": 261,
   "metadata": {},
   "outputs": [
    {
     "data": {
      "text/plain": [
       "dict_keys(['gene-miRNA', 'miRNA-disease', 'gene-disease', 'miRNA-tsRNA', 'tsRNA-disease', 'gene-snoRNA', 'snoRNA-miRNA', 'snoRNA-snoRNA', 'snoRNA-lncRNA', 'snoRNA-snRNA', 'lncRNA-disease', 'circRNA-disease', 'lncRNA-protein', 'miRNA-protein', 'chemical-miRNA', 'gRNA-gene', 'chemical-disease', 'ASO-gene', 'lncRNA-gene', 'chemical-gene', 'gene-gene', 'protein-protein'])"
      ]
     },
     "execution_count": 261,
     "metadata": {},
     "output_type": "execute_result"
    }
   ],
   "source": [
    "edges.source_list.keys()"
   ]
  },
  {
   "cell_type": "markdown",
   "metadata": {},
   "source": [
    "***\n",
    "\n",
    "## Create Edge Lists <a class=\"anchor\" id=\"create-edges\"></a>\n",
    "\n",
    "**Wiki Page:** **[`Data Sources`](https://github.com/callahantiff/PheKnowLator/wiki/v2-Data-Sources)**\n",
    "\n",
    "<br>\n",
    "\n",
    "**Purpose:** The code below will take the dictionaries of processed data described above and use them to create edge lists for each of the edge types specified in the [`resource_info.txt`](https://github.com/callahantiff/PheKnowLator/blob/master/resources/resource_info.txt). Each edge list will be appended to a nested dictionary (see details below).\n",
    "\n",
    "<br>\n",
    "\n",
    "**Assumptions:**  \n",
    "1. All `ontology` and `edge` data sources have been downloaded.   \n",
    "\n",
    "2. All code in the [`Data_Preparation.ipynb`](https://github.com/callahantiff/PheKnowLator/blob/master/notebooks/Data_Preparation.ipynb) Jupyter Notebook has been run. This Notebook contains code needed to generate all mapping, filtering, and label data.\n",
    "\n",
    "<br>\n",
    "\n",
    "**Output:** `Master_Edge_List_Dict.json`. Below is an example of what the `Master Edge Dictionary` contains for each processed resource:  \n",
    "```python\n",
    "master_edges = {'chemical-disease'  :\n",
    "                {'source_labels'    : ';MESH_;',\n",
    "                 'data_type'        : 'class-class',\n",
    "                 'edge_relation'    : 'RO_0002606',\n",
    "                 'uri'              : ('http://purl.obolibrary.org/obo/',\n",
    "                                       'http://purl.obolibrary.org/obo/'),\n",
    "                 'delimiter'        : '#',\n",
    "                 'column_idx'       : '1;4',\n",
    "                 'identifier_maps'  : '0:./MESH_CHEBI_MAP.txt;1:disease-dbxref-map',\n",
    "                 'evidence_criteria': \"5;!=;' \",\n",
    "                 'filter_criteria'  : 'None',\n",
    "                 'edge_list'        : ['...']}\n",
    "```\n",
    "\n",
    "***"
   ]
  },
  {
   "cell_type": "code",
   "execution_count": 262,
   "metadata": {},
   "outputs": [],
   "source": [
    "ray.shutdown()"
   ]
  },
  {
   "cell_type": "code",
   "execution_count": 263,
   "metadata": {},
   "outputs": [
    {
     "name": "stderr",
     "output_type": "stream",
     "text": [
      "2023-03-31 11:37:15,873\tINFO worker.py:1518 -- Started a local Ray instance.\n"
     ]
    },
    {
     "data": {
      "text/html": [
       "<div>\n",
       "    <div style=\"margin-left: 50px;display: flex;flex-direction: row;align-items: center\">\n",
       "        <h3 style=\"color: var(--jp-ui-font-color0)\">Ray</h3>\n",
       "        <svg version=\"1.1\" id=\"ray\" width=\"3em\" viewBox=\"0 0 144.5 144.6\" style=\"margin-left: 3em;margin-right: 3em\">\n",
       "            <g id=\"layer-1\">\n",
       "                <path fill=\"#00a2e9\" class=\"st0\" d=\"M97.3,77.2c-3.8-1.1-6.2,0.9-8.3,5.1c-3.5,6.8-9.9,9.9-17.4,9.6S58,88.1,54.8,81.2c-1.4-3-3-4-6.3-4.1\n",
       "                    c-5.6-0.1-9.9,0.1-13.1,6.4c-3.8,7.6-13.6,10.2-21.8,7.6C5.2,88.4-0.4,80.5,0,71.7c0.1-8.4,5.7-15.8,13.8-18.2\n",
       "                    c8.4-2.6,17.5,0.7,22.3,8c1.3,1.9,1.3,5.2,3.6,5.6c3.9,0.6,8,0.2,12,0.2c1.8,0,1.9-1.6,2.4-2.8c3.5-7.8,9.7-11.8,18-11.9\n",
       "                    c8.2-0.1,14.4,3.9,17.8,11.4c1.3,2.8,2.9,3.6,5.7,3.3c1-0.1,2,0.1,3,0c2.8-0.5,6.4,1.7,8.1-2.7s-2.3-5.5-4.1-7.5\n",
       "                    c-5.1-5.7-10.9-10.8-16.1-16.3C84,38,81.9,37.1,78,38.3C66.7,42,56.2,35.7,53,24.1C50.3,14,57.3,2.8,67.7,0.5\n",
       "                    C78.4-2,89,4.7,91.5,15.3c0.1,0.3,0.1,0.5,0.2,0.8c0.7,3.4,0.7,6.9-0.8,9.8c-1.7,3.2-0.8,5,1.5,7.2c6.7,6.5,13.3,13,19.8,19.7\n",
       "                    c1.8,1.8,3,2.1,5.5,1.2c9.1-3.4,17.9-0.6,23.4,7c4.8,6.9,4.6,16.1-0.4,22.9c-5.4,7.2-14.2,9.9-23.1,6.5c-2.3-0.9-3.5-0.6-5.1,1.1\n",
       "                    c-6.7,6.9-13.6,13.7-20.5,20.4c-1.8,1.8-2.5,3.2-1.4,5.9c3.5,8.7,0.3,18.6-7.7,23.6c-7.9,5-18.2,3.8-24.8-2.9\n",
       "                    c-6.4-6.4-7.4-16.2-2.5-24.3c4.9-7.8,14.5-11,23.1-7.8c3,1.1,4.7,0.5,6.9-1.7C91.7,98.4,98,92.3,104.2,86c1.6-1.6,4.1-2.7,2.6-6.2\n",
       "                    c-1.4-3.3-3.8-2.5-6.2-2.6C99.8,77.2,98.9,77.2,97.3,77.2z M72.1,29.7c5.5,0.1,9.9-4.3,10-9.8c0-0.1,0-0.2,0-0.3\n",
       "                    C81.8,14,77,9.8,71.5,10.2c-5,0.3-9,4.2-9.3,9.2c-0.2,5.5,4,10.1,9.5,10.3C71.8,29.7,72,29.7,72.1,29.7z M72.3,62.3\n",
       "                    c-5.4-0.1-9.9,4.2-10.1,9.7c0,0.2,0,0.3,0,0.5c0.2,5.4,4.5,9.7,9.9,10c5.1,0.1,9.9-4.7,10.1-9.8c0.2-5.5-4-10-9.5-10.3\n",
       "                    C72.6,62.3,72.4,62.3,72.3,62.3z M115,72.5c0.1,5.4,4.5,9.7,9.8,9.9c5.6-0.2,10-4.8,10-10.4c-0.2-5.4-4.6-9.7-10-9.7\n",
       "                    c-5.3-0.1-9.8,4.2-9.9,9.5C115,72.1,115,72.3,115,72.5z M19.5,62.3c-5.4,0.1-9.8,4.4-10,9.8c-0.1,5.1,5.2,10.4,10.2,10.3\n",
       "                    c5.6-0.2,10-4.9,9.8-10.5c-0.1-5.4-4.5-9.7-9.9-9.6C19.6,62.3,19.5,62.3,19.5,62.3z M71.8,134.6c5.9,0.2,10.3-3.9,10.4-9.6\n",
       "                    c0.5-5.5-3.6-10.4-9.1-10.8c-5.5-0.5-10.4,3.6-10.8,9.1c0,0.5,0,0.9,0,1.4c-0.2,5.3,4,9.8,9.3,10\n",
       "                    C71.6,134.6,71.7,134.6,71.8,134.6z\"/>\n",
       "            </g>\n",
       "        </svg>\n",
       "        <table>\n",
       "            <tr>\n",
       "                <td style=\"text-align: left\"><b>Python version:</b></td>\n",
       "                <td style=\"text-align: left\"><b>3.8.5</b></td>\n",
       "            </tr>\n",
       "            <tr>\n",
       "                <td style=\"text-align: left\"><b>Ray version:</b></td>\n",
       "                <td style=\"text-align: left\"><b> 2.0.0</b></td>\n",
       "            </tr>\n",
       "            \n",
       "        </table>\n",
       "    </div>\n",
       "</div>\n"
      ],
      "text/plain": [
       "RayContext(dashboard_url='', python_version='3.8.5', ray_version='2.0.0', ray_commit='cba26cc83f6b5b8a2ff166594a65cb74c0ec8740', address_info={'node_ip_address': '127.0.0.1', 'raylet_ip_address': '127.0.0.1', 'redis_address': None, 'object_store_address': '/tmp/ray/session_2023-03-31_11-37-13_553187_808/sockets/plasma_store', 'raylet_socket_name': '/tmp/ray/session_2023-03-31_11-37-13_553187_808/sockets/raylet', 'webui_url': '', 'session_dir': '/tmp/ray/session_2023-03-31_11-37-13_553187_808', 'metrics_export_port': 60225, 'gcs_address': '127.0.0.1:57893', 'address': '127.0.0.1:57893', 'dashboard_agent_listen_port': 52365, 'node_id': '7421ed526571f264a77c9aacfeb42f8e98dedecd1461ca9039fe5dd3'})"
      ]
     },
     "execution_count": 263,
     "metadata": {},
     "output_type": "execute_result"
    }
   ],
   "source": [
    "import psutil\n",
    "# set-up environment for parallel processing -- even if running program serially these steps are needed\n",
    "cpus = psutil.cpu_count(logical=True)\n",
    "ray.init()"
   ]
  },
  {
   "cell_type": "code",
   "execution_count": 264,
   "metadata": {},
   "outputs": [
    {
     "name": "stdout",
     "output_type": "stream",
     "text": [
      "\u001b[2m\u001b[36m(CreatesEdgeList pid=3213)\u001b[0m Finished Edge: miRNA-disease (miRNA = 423, disease = 92); 1754 unique edges\n",
      "\u001b[2m\u001b[36m(CreatesEdgeList pid=3221)\u001b[0m Finished Edge: snoRNA-miRNA (snoRNA = 1, miRNA = 1); 1 unique edges\n",
      "\u001b[2m\u001b[36m(CreatesEdgeList pid=3213)\u001b[0m Finished Edge: ASO-gene (ASO = 1, gene = 4); 4 unique edges\n",
      "\u001b[2m\u001b[36m(CreatesEdgeList pid=3223)\u001b[0m Finished Edge: snoRNA-snoRNA (snoRNA = 86, snoRNA = 74); 344 unique edges\n",
      "\u001b[2m\u001b[36m(CreatesEdgeList pid=3227)\u001b[0m Finished Edge: snoRNA-snRNA (snoRNA = 31, snRNA = 11); 45 unique edges\n",
      "\u001b[2m\u001b[36m(CreatesEdgeList pid=3225)\u001b[0m Finished Edge: snoRNA-lncRNA (snoRNA = 15, lncRNA = 11); 17 unique edges\n",
      "\u001b[2m\u001b[36m(CreatesEdgeList pid=3218)\u001b[0m Finished Edge: gene-snoRNA (gene = 266, snoRNA = 516); 518 unique edges\n",
      "\u001b[2m\u001b[36m(CreatesEdgeList pid=3216)\u001b[0m Finished Edge: tsRNA-disease (tsRNA = 4449, disease = 31); 26601 unique edges\n",
      "\u001b[2m\u001b[36m(CreatesEdgeList pid=3229)\u001b[0m Finished Edge: lncRNA-disease (lncRNA = 565, disease = 53); 993 unique edges\n",
      "\u001b[2m\u001b[36m(CreatesEdgeList pid=3231)\u001b[0m Finished Edge: circRNA-disease (circRNA = 44, disease = 13); 45 unique edges\n",
      "\u001b[2m\u001b[36m(CreatesEdgeList pid=3237)\u001b[0m Finished Edge: chemical-miRNA (chemical = 111, miRNA = 819); 1809 unique edges\n",
      "\u001b[2m\u001b[36m(CreatesEdgeList pid=3239)\u001b[0m Finished Edge: gRNA-gene (gRNA = 77, gene = 43); 77 unique edges\n",
      "\u001b[2m\u001b[36m(CreatesEdgeList pid=3235)\u001b[0m Finished Edge: miRNA-protein (miRNA = 330, protein = 320); 1869 unique edges\n",
      "\u001b[2m\u001b[36m(CreatesEdgeList pid=3215)\u001b[0m Finished Edge: miRNA-tsRNA (miRNA = 103, tsRNA = 8044); 121236 unique edges\n",
      "\u001b[2m\u001b[36m(CreatesEdgeList pid=3233)\u001b[0m Finished Edge: lncRNA-protein (lncRNA = 353, protein = 141); 2735 unique edges\n",
      "\u001b[2m\u001b[36m(CreatesEdgeList pid=3214)\u001b[0m Finished Edge: gene-disease (gene = 5060, disease = 4436); 12842 unique edges\n",
      "\u001b[2m\u001b[36m(CreatesEdgeList pid=3212)\u001b[0m Finished Edge: gene-miRNA (gene = 18311, miRNA = 1084); 420644 unique edges\n",
      "\u001b[2m\u001b[36m(CreatesEdgeList pid=3216)\u001b[0m Finished Edge: gene-gene (gene = 250, gene = 267); 1694 unique edges\n",
      "\u001b[2m\u001b[36m(CreatesEdgeList pid=3214)\u001b[0m Finished Edge: lncRNA-gene (lncRNA = 1267, gene = 17048); 2410126 unique edges\n",
      "\u001b[2m\u001b[36m(CreatesEdgeList pid=3215)\u001b[0m Finished Edge: chemical-gene (chemical = 466, gene = 11978); 16708 unique edges\n",
      "\u001b[2m\u001b[36m(CreatesEdgeList pid=3212)\u001b[0m Finished Edge: chemical-disease (chemical = 4341, disease = 4583); 172573 unique edges\n",
      "\u001b[2m\u001b[36m(CreatesEdgeList pid=3218)\u001b[0m Finished Edge: protein-protein (protein = 14230, protein = 14230); 618069 unique edges\n"
     ]
    }
   ],
   "source": [
    "# combine data sources\n",
    "combined_edges = dict(edges.data_files, **ont.data_files)\n",
    "resource_info_loc = './resources/resource_info.txt'\n",
    "\n",
    "# initialize edge dictionary class\n",
    "master_edges = CreatesEdgeList(data_files=combined_edges, source_file=resource_info_loc)\n",
    "master_edges.runs_creates_knowledge_graph_edges(source_file=resource_info_loc, data_files=combined_edges, cpus=cpus)"
   ]
  },
  {
   "cell_type": "markdown",
   "metadata": {},
   "source": [
    "**Preview Master Edge Data**  \n",
    "Generate a table that includes each `edge-type`, its primary `relation`, example identifiers, and count of unique edges."
   ]
  },
  {
   "cell_type": "code",
   "execution_count": 25,
   "metadata": {},
   "outputs": [
    {
     "data": {
      "text/plain": [
       "dict_keys(['chemical-disease', 'miRNA-protein', 'lncRNA-protein', 'circRNA-disease', 'snoRNA-snRNA', 'gene-protein', 'lncRNA-disease', 'snoRNA-lncRNA', 'snoRNA-snoRNA', 'snoRNA-miRNA', 'gene-snoRNA', 'tRF-disease', 'miRNA-tRF', 'miRNA-disease', 'gene-miRNA', 'gene-disease', 'chemical-miRNA'])"
      ]
     },
     "execution_count": 25,
     "metadata": {},
     "output_type": "execute_result"
    }
   ],
   "source": [
    "master_edges = json.load(open('resources/Master_Edge_List_Dict.json', 'r'))\n",
    "master_edges.keys()"
   ]
  },
  {
   "cell_type": "code",
   "execution_count": 26,
   "metadata": {},
   "outputs": [],
   "source": [
    "relation_data = open('./resources/relations_data/RELATIONS_LABELS.txt').readlines()\n",
    "relation_dict = {x.split('\\t')[0]: x.split('\\t')[1].strip('\\n') for x in relation_data}      "
   ]
  },
  {
   "cell_type": "markdown",
   "metadata": {},
   "source": [
    "<br><br>"
   ]
  },
  {
   "cell_type": "markdown",
   "metadata": {},
   "source": [
    "***\n",
    "\n",
    "## Build Knowledge Graph  <a class=\"anchor\" id=\"build-kg\"></a>\n",
    "**Wiki Pages:**  \n",
    "- **[`KG-Construction`](https://github.com/callahantiff/PheKnowLator/wiki/KG-Construction)**  \n",
    "- **[`relations-data`](https://github.com/callahantiff/PheKnowLator/wiki/Dependencies#relations-data)**  \n",
    "- **[`node-metadata`](https://github.com/callahantiff/PheKnowLator/wiki/Dependencies#node-metadata)** \n",
    "\n",
    "**Jupyter Notebooks:**  \n",
    "- [`Data_Preparation.ipynb`](https://github.com/callahantiff/PheKnowLator/blob/master/notebooks/Data_Preparation.ipynb)  \n",
    "[`Ontology_Cleaning.ipynb`](https://github.com/callahantiff/PheKnowLator/blob/master/notebooks/Ontology_Cleaning.ipynb)  \n",
    "\n",
    "\n",
    "<br>\n",
    "\n",
    "**Assumptions:**  \n",
    "- <u>Construction Approach</u>. If using the `subclass-based` construction approach, please make sure that a `pickled` dictionary mapping each non-ontology data node to an existing ontology class is created and added to the `./resources/knowledge_graph` directory (please see [here](https://github.com/callahantiff/PheKnowLator/tree/master/resources/knowledge_graphs#construction-method) for additional information).   \n",
    "- <u>Relations Data</u>. If inverse relation data is going to be used to build the knowledge graph, that it has been generated and added to the `./resources/relations_data` directory (please see [here](https://github.com/callahantiff/PheKnowLator/blob/master/resources/relations_data/README.md) for additional information).  \n",
    "- <u>Node Metadata</u>. If node metadata is going to be used to build the knowledge graph, that it has been generated and added to the `./resources/node_metadata` directory (please see [here](https://github.com/callahantiff/PheKnowLator/blob/master/resources/node_data/README.md) for additional information).  \n",
    "- <u>Decoding OWL Semantics</u>. If decoding OWL-Semantics, please make sure to provide a list of owl:Property types to keep is created and added to the `./resources/knowledge_graph` directory (please see [here](https://github.com/callahantiff/PheKnowLator/wiki/OWL-NETS-2.0) for additional information). \n",
    "\n",
    "<br>\n",
    "\n",
    "**Input:** \n",
    "- `Master_Edge_List_Dict.json`  \n",
    "- Directory of relations data sources - see [here](https://github.com/callahantiff/PheKnowLator/wiki/Dependencies#relations-data) for more information\n",
    "- Directory of node data sources - see [here](https://github.com/callahantiff/PheKnowLator/wiki/Dependencies#node-metadata) for more information\n",
    "\n",
    "<br>\n",
    "\n",
    "**Output:** Please see [`Release v2.0.0 Wiki`](https://github.com/callahantiff/PheKnowLator/wiki/v2.0.0) for access to all generated output files.   \n",
    "- `Knowledge Graph` (`.owl` and Networkx MultiDiGraph `.pkl`)  \n",
    "- `Class Instance URI-UUID Map` (if \"instance\" construction approach)   \n",
    "- `Triple List - Integer`  \n",
    "- `Triple List - Identifier`  \n",
    "- `Node Integer-Identifier Map`  \n",
    "- `Node Attribute Data`  \n",
    "\n",
    "<br>\n",
    "\n",
    "The process to build the knowledge graph is somewhat time consuming and can be broken into the following steps:  \n",
    "\n",
    "1. Merge Ontologies. See [here](https://github.com/callahantiff/PheKnowLator/blob/master/resources/ontologies/README.md) for additional information on how to preprocess the ontologies prior to merging them.    \n",
    "\n",
    "2. Create Edges. Add edge lists to merged ontologies.  \n",
    "\n",
    "3. Add Inverse Relations and Node Data. See the [Dependencies](https://github.com/callahantiff/PheKnowLator/wiki/Dependencies) Wiki page for details on how to construct these resources.  \n",
    "\n",
    "4. Filter OWL Semantics. Filter the knowledge graph with the goal of removing all edges that contain entities that are needed to support owl semantics, but are not biologically meaningful (please see [here](https://github.com/callahantiff/PheKnowLator/wiki/OWL-NETS-2.0) for additional information).\n",
    "\n",
    "5. Save Edge Lists and Node Metadata. Several versions of the knowledge graph are saved, including: the full knowledge graph (`owl` or Networkx MultiDiGraph `pickle`), triple lists (i.e. integer index and identifier labeled edge lists with a dictionary that maps between the integer indices and node identifiers), and a file of metadata (i.e. identifiers, labels, synonyms, and descriptions) for all nodes in the knowledge graph.  \n",
    "\n",
    "<br>\n",
    "\n",
    "**‼ IMPORTANT:**  \n",
    "- The file containing the merged ontologies is quite large and can take up to 30 minutes to read in.  This is not a limitation of the code directly, but rather a function of the [`RDFLib Library`](https://github.com/RDFLib). While there are other ways to read in this data, we maintain reliance on this library as it is the most user-friendly for non-RDF users.   \n",
    "- If you'd like to include [node metadata](https://github.com/callahantiff/PheKnowLator/wiki/Dependencies#node-metadata) when building the knowledge graph, please hold off on building the knowledge graph until you have generated the node data. For details on how to do this see the [node metadata](https://github.com/callahantiff/PheKnowLator/wiki/Dependencies#node-metadata) section of the `Dependencies` Wiki Page or help for help with generating the data, please see the []() section of the [`Data_Preparation.ipynb`](https://github.com/callahantiff/PheKnowLator/blob/master/notebooks/Data_Preparation.ipynb) Jupyter Notebook.\n",
    "\n",
    "***\n"
   ]
  },
  {
   "cell_type": "code",
   "execution_count": 15,
   "metadata": {},
   "outputs": [],
   "source": [
    "# specify input arguments\n",
    "build = 'full'\n",
    "construction_approach = 'instance'\n",
    "add_node_data_to_kg = 'no'\n",
    "add_inverse_relations_to_kg = 'no'\n",
    "decode_owl_semantics = 'no'\n",
    "kg_directory_location = './resources/knowledge_graphs'\n"
   ]
  },
  {
   "cell_type": "code",
   "execution_count": 16,
   "metadata": {
    "scrolled": true
   },
   "outputs": [
    {
     "name": "stdout",
     "output_type": "stream",
     "text": [
      "\n",
      "### Starting Knowledge Graph Build: FULL ###\n",
      "*** Loading Relations Data ***\n",
      "*** Loading Merged Ontologies ***\n",
      "Merged Ontologies Graph Stats: 6138723 triples, 854921 nodes, 130 predicates, 58857 classes, 20 individuals, 708 object props, 226 annotation props\n",
      "*** Loading Node Metadata Data ***\n",
      "*** Splitting Graph ***\n",
      "Adding Namespace to BNodes\n",
      "Creating Logic and Annotation Subsets of Graph\n"
     ]
    },
    {
     "name": "stderr",
     "output_type": "stream",
     "text": [
      "100%|██████████| 311321/311321 [02:02<00:00, 2534.21it/s]\n",
      "  0%|          | 0/4348803 [00:00<?, ?it/s]"
     ]
    },
    {
     "name": "stdout",
     "output_type": "stream",
     "text": [
      "Annotation Assertions (n=1789920 Triples)\n",
      "Creating Logic Graph (n=4348803 Triples)\n"
     ]
    },
    {
     "name": "stderr",
     "output_type": "stream",
     "text": [
      "100%|██████████| 4348803/4348803 [01:35<00:00, 45471.05it/s] \n"
     ]
    },
    {
     "name": "stdout",
     "output_type": "stream",
     "text": [
      "Merged Ontologies - Logic Subset Graph Stats: 4348803 triples, 188247 nodes, 42 predicates, 58857 classes, 20 individuals, 708 object props, 226 annotation props\n",
      "\n",
      "*** Building Knowledge Graph Edges ***\n",
      "\u001b[2m\u001b[36m(EdgeConstructor pid=4182)\u001b[0m \n",
      "\u001b[2m\u001b[36m(EdgeConstructor pid=4182)\u001b[0m Created MIRNA-DISEASE (entity-class) Edges: 0 OWL Edges, 1239 Original Edges; 0 OWL Nodes, Original Nodes: 246 miRNA(s), 83 disease(s)\n",
      "\u001b[2m\u001b[36m(EdgeConstructor pid=4178)\u001b[0m \n",
      "\u001b[2m\u001b[36m(EdgeConstructor pid=4178)\u001b[0m Created GENE-MIRNA (entity-entity) Edges: 0 OWL Edges, 8338 Original Edges; 0 OWL Nodes, Original Nodes: 5211 gene(s), 569 miRNA(s)\n",
      "\u001b[2m\u001b[36m(EdgeConstructor pid=4180)\u001b[0m \n",
      "\u001b[2m\u001b[36m(EdgeConstructor pid=4180)\u001b[0m Created GENE-DISEASE (entity-class) Edges: 10066 OWL Edges, 1531 Original Edges; 5138 OWL Nodes, Original Nodes: 1202 gene(s), 864 disease(s)\n"
     ]
    },
    {
     "name": "stderr",
     "output_type": "stream",
     "text": [
      "  0%|          | 7635/4358043 [00:00<00:56, 76346.25it/s]"
     ]
    },
    {
     "name": "stdout",
     "output_type": "stream",
     "text": [
      "Full Logic Graph Stats: 4358043 triples, 191692 nodes, 43 predicates, 59240 classes, 3082 individuals, 708 object props, 226 annotation props\n",
      "Converting Knowledge Graph to MultiDiGraph\n"
     ]
    },
    {
     "name": "stderr",
     "output_type": "stream",
     "text": [
      "100%|██████████| 4358043/4358043 [01:00<00:00, 71969.51it/s]\n"
     ]
    },
    {
     "name": "stdout",
     "output_type": "stream",
     "text": [
      "Pickling MultiDiGraph\n",
      "Generating Network Statistics\n"
     ]
    },
    {
     "name": "stderr",
     "output_type": "stream",
     "text": [
      "  0%|          | 16027/4358043 [00:00<00:27, 160266.71it/s]"
     ]
    },
    {
     "name": "stdout",
     "output_type": "stream",
     "text": [
      "Full Logic Subset (OWL) Graph Stats: 191692 nodes, 4358043 edges, 1 self-loops, 5 most most common edges: http://www.w3.org/2002/07/owl#equivalentClass:3100794, http://www.w3.org/2000/01/rdf-schema#subClassOf:783414, http://www.w3.org/1999/02/22-rdf-syntax-ns#type:162912, http://www.w3.org/2002/07/owl#onProperty:48912, http://www.w3.org/2002/07/owl#someValuesFrom:48837, http://www.w3.org/2002/07/owl#annotatedSource:47169, average degree 22.734610729712248, 5 highest degree nodes: http://www.w3.org/2002/07/owl#Class:59240, http://www.w3.org/2002/07/owl#Restriction:48912, http://www.w3.org/2002/07/owl#Axiom:47169, http://www.w3.org/2000/01/rdf-schema#subClassOf:35507, http://www.w3.org/1999/02/22-rdf-syntax-ns#nil:15213, http://purl.obolibrary.org/obo/RO_0004020:11294, density: 0.00011860030324695603, 2 component(s): {0: 191689, 1: '3 nodes: http://purl.obolibrary.org/obo/ro/releases/2021-10-27/ro.owl | http://www.w3.org/2002/07/owl#Ontology | http://purl.obolibrary.org/obo/ro.owl'}\n",
      "\n",
      "*** Writing Knowledge Graph Edge Lists ***\n",
      "\n",
      "*** Processing OWL Graph ***\n",
      "Mapping Node and Relation Identifiers to Integers\n"
     ]
    },
    {
     "name": "stderr",
     "output_type": "stream",
     "text": [
      "100%|██████████| 4358043/4358043 [00:22<00:00, 192325.63it/s]\n"
     ]
    },
    {
     "name": "stdout",
     "output_type": "stream",
     "text": [
      "Depduplicating File: ./resources/knowledge_graphs/PheKnowLator_v3.0.2_full_instance_relationsOnly_OWL_AnnotationsOnly.nt\n"
     ]
    },
    {
     "name": "stderr",
     "output_type": "stream",
     "text": [
      "100%|██████████| 1789920/1789920 [00:02<00:00, 810010.90it/s]\n"
     ]
    },
    {
     "name": "stdout",
     "output_type": "stream",
     "text": [
      "Depduplicating File: ./resources/knowledge_graphs/PheKnowLator_v3.0.2_full_instance_relationsOnly_OWL_LogicOnly.nt\n"
     ]
    },
    {
     "name": "stderr",
     "output_type": "stream",
     "text": [
      "100%|██████████| 4358043/4358043 [00:04<00:00, 894363.01it/s]\n"
     ]
    },
    {
     "name": "stdout",
     "output_type": "stream",
     "text": [
      "Merging Files: ./resources/knowledge_graphs/PheKnowLator_v3.0.2_full_instance_relationsOnly_OWL_AnnotationsOnly.nt and ./resources/knowledge_graphs/PheKnowLator_v3.0.2_full_instance_relationsOnly_OWL_LogicOnly.nt\n",
      "\n",
      "\n",
      "Loading Full (Logic + Annotation) Graph\n",
      "\n",
      "Deriving Stats\n",
      "\n",
      "Full (Logic + Annotation) Graph Stats: 6147963 triples, 858366 nodes, 131 predicates, 59240 classes, 3082 individuals, 708 object props, 226 annotation props\n"
     ]
    }
   ],
   "source": [
    "# construct knowledge graphs\n",
    "if build == 'partial':\n",
    "    kg = PartialBuild(construction=construction_approach,\n",
    "                      node_data=add_node_data_to_kg,\n",
    "                      inverse_relations=add_inverse_relations_to_kg,\n",
    "                      decode_owl=decode_owl_semantics,\n",
    "                      cpus=cpus,\n",
    "                      write_location=kg_directory_location)\n",
    "elif build == 'post-closure':\n",
    "    kg = PostClosureBuild(construction=construction_approach,\n",
    "                          node_data=add_node_data_to_kg,\n",
    "                          inverse_relations=add_inverse_relations_to_kg,\n",
    "                          decode_owl=decode_owl_semantics,\n",
    "                          cpus=cpus,\n",
    "                          write_location=kg_directory_location)\n",
    "else:\n",
    "    kg = FullBuild(construction=construction_approach,\n",
    "                   node_data=add_node_data_to_kg,\n",
    "                   inverse_relations=add_inverse_relations_to_kg,\n",
    "                   decode_owl=decode_owl_semantics,\n",
    "                   cpus=cpus,\n",
    "                   write_location=kg_directory_location)\n",
    "\n",
    "kg.construct_knowledge_graph()\n",
    "ray.shutdown()"
   ]
  },
  {
   "cell_type": "code",
   "execution_count": null,
   "metadata": {},
   "outputs": [],
   "source": []
  },
  {
   "cell_type": "code",
   "execution_count": null,
   "metadata": {},
   "outputs": [],
   "source": []
  },
  {
   "cell_type": "code",
   "execution_count": null,
   "metadata": {},
   "outputs": [],
   "source": []
  },
  {
   "cell_type": "code",
   "execution_count": null,
   "metadata": {},
   "outputs": [],
   "source": []
  },
  {
   "cell_type": "code",
   "execution_count": null,
   "metadata": {},
   "outputs": [],
   "source": []
  },
  {
   "cell_type": "code",
   "execution_count": null,
   "metadata": {},
   "outputs": [],
   "source": []
  },
  {
   "cell_type": "code",
   "execution_count": null,
   "metadata": {},
   "outputs": [],
   "source": [
    "## create dictionary from NodeLabels and serialize it\n",
    "## do with the pickle file (patched nodes - to remove foreign characters)\n",
    "\n",
    "import os\n",
    "import os.path\n",
    "from tqdm import tqdm\n",
    "import networkx as nx \n",
    "from rdflib import Graph, URIRef, BNode, Namespace, Literal  \n",
    "from rdflib.namespace import RDF, OWL \n",
    "\n",
    "import pandas as pd\n",
    "import pickle"
   ]
  },
  {
   "cell_type": "code",
   "execution_count": null,
   "metadata": {},
   "outputs": [],
   "source": [
    "NX_GRAPH_PATH = r'/Users/emanuelecavalleri/Desktop/Final dissertation/Thesis project/dummy-PheKnowLator/resources/knowledge_graphs/'\n",
    "OUT_NX_GRAPH_NAME = 'PheKnowLator_v3.0.2_full_instance_inverseRelations_OWLNETS_NodeLabels.nt'\n",
    "\n"
   ]
  },
  {
   "cell_type": "code",
   "execution_count": null,
   "metadata": {},
   "outputs": [],
   "source": [
    "import csv\n",
    "nodedf = pd.read_csv('/Users/emanuelecavalleri/Desktop/Final dissertation/Thesis project/dummy-PheKnowLator/resources/knowledge_graphs/PheKnowLator_v3.0.2_full_instance_inverseRelations_OWLNETS_NodeLabels.txt', sep='\\t', quoting=csv.QUOTE_NONE)\n",
    "nodedf.info()\n",
    "\n"
   ]
  },
  {
   "cell_type": "code",
   "execution_count": null,
   "metadata": {},
   "outputs": [],
   "source": [
    "nodedf2 = pd.read_csv('/Users/emanuelecavalleri/Desktop/Final dissertation/Thesis project/dummy-PheKnowLator/resources/knowledge_graphs/PheKnowLator_v3.0.2_full_instance_inverseRelations_OWLNETS_NodeLabels.txt', sep='\\t', quoting=csv.QUOTE_NONE)\n",
    "nodedf2.info()"
   ]
  },
  {
   "cell_type": "code",
   "execution_count": null,
   "metadata": {},
   "outputs": [],
   "source": [
    "\n",
    "\n",
    "nodedf = nodedf.dropna(subset = ['entity_uri'])\n",
    "nodedf.info()\n",
    "\n"
   ]
  },
  {
   "cell_type": "code",
   "execution_count": null,
   "metadata": {},
   "outputs": [],
   "source": [
    "\n",
    "\n",
    "\n",
    "\n",
    "nodedf = nodedf.reset_index(drop=True)\n",
    "\n",
    "\n",
    "\n"
   ]
  },
  {
   "cell_type": "code",
   "execution_count": null,
   "metadata": {},
   "outputs": [],
   "source": [
    "\n",
    "\n",
    "#create rdflib graph from dataframe triples and serialize as ntriples file\n",
    "nodegraph  = Graph()\n",
    "pred_label = URIRef(\"http://www.w3.org/2000/01/rdf-schema#label\")\n",
    "for i in range(len(nodedf.index)):\n",
    "    entity_uri = nodedf.at[i, 'entity_uri']\n",
    "    if isinstance(entity_uri, float):\n",
    "        print(entity_uri)\n",
    "    entity_uri = entity_uri.replace('<', '')\n",
    "    entity_uri = entity_uri.replace('>', '')\n",
    "    label = nodedf.at[i, 'label']\n",
    "    entity_node = URIRef(entity_uri)\n",
    "    nodegraph.add((entity_node, pred_label, Literal(label)))\n",
    "len(nodegraph)\n",
    "\n"
   ]
  },
  {
   "cell_type": "code",
   "execution_count": null,
   "metadata": {},
   "outputs": [],
   "source": [
    "nodegraph.serialize('/Users/emanuelecavalleri/Desktop/Final dissertation/Thesis project/dummy-PheKnowLator/resources/knowledge_graphs/PheKnowLator_v3.0.2_full_instance_inverseRelations_OWLNETS_NodeLabels.nt', format='nt')"
   ]
  },
  {
   "cell_type": "code",
   "execution_count": null,
   "metadata": {},
   "outputs": [],
   "source": [
    "\n",
    "\n",
    "nodedf2.at[1, 'label']\n",
    "\n"
   ]
  },
  {
   "cell_type": "code",
   "execution_count": null,
   "metadata": {},
   "outputs": [],
   "source": [
    "import re\n",
    "import numpy as np\n",
    "nodes = []\n",
    "\n",
    "for i in range(len(nodedf.index)):\n",
    "    label = nodedf.at[i, 'label']\n",
    "    if isinstance(label, str):\n",
    "        uri = nodedf.at[i, 'entity_uri']\n",
    "        if re.search(\"[\\u4e00-\\u9FFF]\", label):\n",
    "            nodes.append(uri)\n",
    "\n",
    "len(nodes)"
   ]
  },
  {
   "cell_type": "code",
   "execution_count": null,
   "metadata": {},
   "outputs": [],
   "source": [
    "nodedf2"
   ]
  },
  {
   "cell_type": "code",
   "execution_count": null,
   "metadata": {},
   "outputs": [],
   "source": []
  },
  {
   "cell_type": "code",
   "execution_count": null,
   "metadata": {},
   "outputs": [],
   "source": []
  },
  {
   "cell_type": "markdown",
   "metadata": {},
   "source": [
    "<br>\n",
    "\n",
    "***\n",
    "***\n",
    "\n",
    "```\n",
    "@misc{callahan_tj_2019_3401437,\n",
    "  author       = {Callahan, TJ},\n",
    "  title        = {PheKnowLator},\n",
    "  month        = mar,\n",
    "  year         = 2019,\n",
    "  doi          = {10.5281/zenodo.3401437},\n",
    "  url          = {https://doi.org/10.5281/zenodo.3401437}\n",
    "}\n",
    "```"
   ]
  }
 ],
 "metadata": {
  "kernelspec": {
   "display_name": "Python 3 (ipykernel)",
   "language": "python",
   "name": "python3"
  },
  "language_info": {
   "codemirror_mode": {
    "name": "ipython",
    "version": 3
   },
   "file_extension": ".py",
   "mimetype": "text/x-python",
   "name": "python",
   "nbconvert_exporter": "python",
   "pygments_lexer": "ipython3",
   "version": "3.9.7"
  },
  "latex_envs": {
   "LaTeX_envs_menu_present": true,
   "autoclose": false,
   "autocomplete": true,
   "bibliofile": "biblio.bib",
   "cite_by": "apalike",
   "current_citInitial": 1,
   "eqLabelWithNumbers": true,
   "eqNumInitial": 1,
   "hotkeys": {
    "equation": "Ctrl-E",
    "itemize": "Ctrl-I"
   },
   "labels_anchors": false,
   "latex_user_defs": false,
   "report_style_numbering": false,
   "user_envs_cfg": false
  },
  "pycharm": {
   "stem_cell": {
    "cell_type": "raw",
    "metadata": {
     "collapsed": false
    },
    "source": []
   }
  },
  "toc": {
   "base_numbering": 1,
   "nav_menu": {},
   "number_sections": false,
   "sideBar": false,
   "skip_h1_title": false,
   "title_cell": "Table of Contents",
   "title_sidebar": "Contents",
   "toc_cell": false,
   "toc_position": {},
   "toc_section_display": false,
   "toc_window_display": false
  }
 },
 "nbformat": 4,
 "nbformat_minor": 1
}
